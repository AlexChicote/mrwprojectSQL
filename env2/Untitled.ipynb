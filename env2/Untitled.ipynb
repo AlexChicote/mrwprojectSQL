{
 "cells": [
  {
   "cell_type": "code",
   "execution_count": 1,
   "id": "0d9373bb-e2fe-49f3-b731-06500e6557e9",
   "metadata": {},
   "outputs": [],
   "source": [
    "import pandas as pd\n",
    "import numpy as np\n",
    "import sqlite3\n",
    "import functions_sql as fsql"
   ]
  },
  {
   "cell_type": "code",
   "execution_count": null,
   "id": "27c2c5fc-5958-49e4-80c9-026b334a7403",
   "metadata": {},
   "outputs": [],
   "source": [
    "import pickle\n",
    "the_list=[1,2,3]\n",
    "with open('my_first_pickle.pkl','wb') as f:\n",
    "    pickle.dump(the_list, f,protocol=pickle.HIGHEST_PROTOCOL)\n",
    "with open('my_first_pickle.pkl', 'rb') as handle:\n",
    "    b = pickle.load(handle)\n",
    "b"
   ]
  },
  {
   "cell_type": "code",
   "execution_count": null,
   "id": "f480f546-1fed-4f49-ad56-fbc56f59ac95",
   "metadata": {},
   "outputs": [],
   "source": [
    "fsql.getting_column_names('clients')"
   ]
  },
  {
   "cell_type": "code",
   "execution_count": null,
   "id": "ff969192-9816-4d3c-951c-48fcc147f775",
   "metadata": {},
   "outputs": [],
   "source": [
    "import functions_sql as fsql"
   ]
  },
  {
   "cell_type": "code",
   "execution_count": null,
   "id": "21dbaed5-2369-45de-882c-41ae6e016bb4",
   "metadata": {},
   "outputs": [],
   "source": [
    "llista=[1,None,3,4,5,6]\n",
    "[x if x != None else 0 for x in llista]"
   ]
  },
  {
   "cell_type": "code",
   "execution_count": null,
   "id": "4a6fdd3a-d7c1-476a-aff8-7ff77c8cdaee",
   "metadata": {},
   "outputs": [],
   "source": [
    "with open('filename.pickle', 'wb') as handle:\n",
    "    pickle.dump(a, handle, protocol=pickle.HIGHEST_PROTOCOL)\n",
    "\n",
    "with open('filename.pickle', 'rb') as handle:\n",
    "    b = pickle.load(handle)"
   ]
  },
  {
   "cell_type": "code",
   "execution_count": null,
   "id": "640ef7c5-fec2-406e-9e7d-afdbf856c23a",
   "metadata": {},
   "outputs": [],
   "source": [
    "first_name,last_name,middle_name,ei_number=tk.StringVar(),tk.StringVar(),tk.StringVar(),tk.StringVar()\n",
    "address,apt,city,zip_code,parent,agency=tk.StringVar(),tk.StringVar(),tk.StringVar(),tk.StringVar(),tk.StringVar(),tk.StringVar()\n",
    "dob, email=tk.StringVar(),tk.StringVar()\n",
    "\n",
    "entries=[first_name,last_name,middle_name,ei_number,dob,\n",
    "                address,apt,city,zip_code,parent,agency,email]\n",
    "record=[('Owl', None, '2022-05-26', '2022-04-26', '888777', 1.0, None, 'Isona', 'Pitufo', 'Ilias', '143 Mcdon', '4V', 'Brook', '11218', 'Melissa Weinberg', 'chicoberg@gmail.com')]\n",
    "\n",
    "for pos in range(len(entries)):\n",
    "    entries[pos].set(record[0][pos])\n",
    "    print(entries[pos].get())\n",
    "\n",
    "\n"
   ]
  },
  {
   "cell_type": "code",
   "execution_count": 24,
   "id": "92b7c7f4-9c03-4bc0-8004-6d7f272b26de",
   "metadata": {},
   "outputs": [
    {
     "name": "stdout",
     "output_type": "stream",
     "text": [
      "['agency', 'activity', 'reception_date', 'dob', 'ei_number', 'age', 'execution_date', 'first_name', 'last_name', 'middle_name', 'address', 'apt', 'city', 'zip_code', 'parent', 'email']\n",
      "0 agency \n",
      "\n",
      "1 activity \n",
      "\n",
      "2 reception_date \n",
      "\n",
      "3 dob \n",
      "\n",
      "4 ei_number \n",
      "\n",
      "5 age \n",
      "\n",
      "6 execution_date \n",
      "\n",
      "7 first_name \n",
      "\n",
      "8 last_name \n",
      "\n",
      "9 middle_name \n",
      "\n",
      "10 address \n",
      "\n",
      "11 apt \n",
      "\n",
      "12 city \n",
      "\n",
      "13 zip_code \n",
      "\n",
      "14 parent \n",
      "\n",
      "15 email \n",
      "\n"
     ]
    }
   ],
   "source": [
    "conn=sqlite3.connect('./database/ot_clients.db')\n",
    "#conn.row_factory=sqlite3.Row\n",
    "#create a cursor\n",
    "c=conn.cursor()\n",
    "\n",
    "# c.execute(\"SELECT name FROM sqlite_master WHERE type='table';\")\n",
    "# print(c.fetchall())\n",
    "#c.execute(\"SELECT *,ei_number,oid from clients; \")\n",
    "data=c.execute(\"SELECT * from clients; \")\n",
    "print(list(map(lambda x: x[0],c.description)))\n",
    "records=c.fetchall()\n",
    "for num, line in enumerate(data.description):\n",
    "    print(num,line[0], '\\n')\n",
    "    \n",
    "conn.commit()\n",
    "conn.close()"
   ]
  },
  {
   "cell_type": "code",
   "execution_count": 30,
   "id": "3441c2b7-d34d-455d-898b-0b9a9fb97706",
   "metadata": {},
   "outputs": [
    {
     "data": {
      "text/plain": [
       "False"
      ]
     },
     "execution_count": 30,
     "metadata": {},
     "output_type": "execute_result"
    }
   ],
   "source": [
    "numbers=[]\n",
    "for record in records:\n",
    "    numbers.append(record[4])\n",
    "999999 in numbers"
   ]
  },
  {
   "cell_type": "code",
   "execution_count": 25,
   "id": "88c6ec0c-a1f0-4c8f-a16a-e7c845281cda",
   "metadata": {},
   "outputs": [
    {
     "data": {
      "text/plain": [
       "('Owl',\n",
       " None,\n",
       " '2022-07-19',\n",
       " '2022-08-14',\n",
       " '888888',\n",
       " 1.0,\n",
       " None,\n",
       " 'Alexandre',\n",
       " 'Chicote',\n",
       " '',\n",
       " '123 McDonald Ave',\n",
       " '2D',\n",
       " 'Brooklyn',\n",
       " '11210',\n",
       " 'Melissa guttenberg',\n",
       " 'cgicoberg@gmail.com')"
      ]
     },
     "execution_count": 25,
     "metadata": {},
     "output_type": "execute_result"
    }
   ],
   "source": [
    "records[-1]"
   ]
  },
  {
   "cell_type": "code",
   "execution_count": 15,
   "id": "15480144-ca09-4671-9153-f31bc6f305ed",
   "metadata": {},
   "outputs": [
    {
     "data": {
      "text/plain": [
       "['Isona',\n",
       " 'Chicote',\n",
       " 'Weiss-Teresa',\n",
       " '999888',\n",
       " '2012-10-14',\n",
       " '143 McDonald Ave',\n",
       " '3C',\n",
       " 'Brooklyn',\n",
       " '11218',\n",
       " 'Melissa Weinberg',\n",
       " 'Owl']"
      ]
     },
     "execution_count": 15,
     "metadata": {},
     "output_type": "execute_result"
    }
   ],
   "source": [
    "conn=sqlite3.connect('./database/ot_clients.db')\n",
    "#conn.row_factory=sqlite3.Row\n",
    "#create a cursor\n",
    "c=conn.cursor()\n",
    "\n",
    "# c.execute(\"SELECT name FROM sqlite_master WHERE type='table';\")\n",
    "# print(c.fetchall())\n",
    "#c.execute(\"SELECT *,ei_number,oid from clients; \")\n",
    "c.execute(\"\"\"SELECT first_name,last_name,middle_name,ei_number,dob, address,apt,\n",
    "                    city,zip_code,parent,agency FROM clients where ei_number=999888;\"\"\" )\n",
    "\n",
    "records=c.fetchall()\n",
    "llista=[element for element in records[0]]\n",
    "    \n",
    "conn.commit()\n",
    "conn.close()\n",
    "llista"
   ]
  },
  {
   "cell_type": "code",
   "execution_count": 4,
   "id": "29f77132-c490-41f8-9c6e-6665d330efe4",
   "metadata": {},
   "outputs": [],
   "source": [
    "fsql.drop_rows_table('clients','ei_number',999999)"
   ]
  },
  {
   "cell_type": "code",
   "execution_count": null,
   "id": "f63604a8-5aac-4688-9268-2fe150528091",
   "metadata": {},
   "outputs": [],
   "source": [
    "from datetime import datetime\n",
    "datetime_object = datetime.strptime(llista[4], '%Y-%m-%d')\n",
    "datetime_object"
   ]
  },
  {
   "cell_type": "code",
   "execution_count": null,
   "id": "4b73f7a9-0789-4afc-abd4-aaf76340b034",
   "metadata": {},
   "outputs": [],
   "source": [
    "conn=sqlite3.connect('./database/ot_clients.db')\n",
    "#conn.row_factory=sqlite3.Row\n",
    "#create a cursor\n",
    "c=conn.cursor()\n",
    "\n",
    "# c.execute(\"SELECT name FROM sqlite_master WHERE type='table';\")\n",
    "# print(c.fetchall())\n",
    "c.execute(\"SELECT * from clients where ei_number=888999; \")\n",
    "#c.execute(\"SELECT * from clients; \")\n",
    "\n",
    "records=c.fetchall()\n",
    "for record in records:\n",
    "    print(record, '\\n')\n",
    "    \n",
    "conn.commit()\n",
    "conn.close()"
   ]
  },
  {
   "cell_type": "code",
   "execution_count": null,
   "id": "db76b7f3-22c3-4c68-9015-732bc6a6c7a7",
   "metadata": {},
   "outputs": [],
   "source": [
    "list(range(1,11))"
   ]
  },
  {
   "cell_type": "code",
   "execution_count": null,
   "id": "82b51eb8-f63d-4739-bf83-1a76abc69778",
   "metadata": {},
   "outputs": [],
   "source": [
    "people = {\n",
    "    'Aaron': [87, 52, 78],\n",
    "    'Barbara': [92, 79, 85],\n",
    "    'Clarence': [42, 68, 55],\n",
    "    'Donovan': [95, 100, 87],\n",
    "    'Erika': [62, 88, 47],\n",
    "    'Fernando': [84, 99, 0]\n",
    "}\n",
    "people_new={}\n",
    "\n",
    "for key,value in people.items():\n",
    "    print('KEY',key,'VALUE',value)\n",
    "    people_new[key]=max(value)\n",
    "\n",
    "people_new"
   ]
  },
  {
   "cell_type": "code",
   "execution_count": null,
   "id": "d487177c-dc10-4009-a900-e6c5a5751bb6",
   "metadata": {},
   "outputs": [],
   "source": [
    "max([1,4,77])"
   ]
  },
  {
   "cell_type": "code",
   "execution_count": null,
   "id": "01887713-d3b0-48a6-a5f6-f15d395feb59",
   "metadata": {},
   "outputs": [],
   "source": [
    "alphabet = \"ABCDEFGHIJKLMNOPQRSTUVWXYZ\"\n",
    "alphabet_dict={b:a+1 for a,b in enumerate(alphabet)}"
   ]
  },
  {
   "cell_type": "code",
   "execution_count": null,
   "id": "2bbf8ddd-e72a-44e7-95af-316e7e0d8664",
   "metadata": {},
   "outputs": [],
   "source": [
    "letters_a='hjhkdtkjhvkhvbh'\n",
    "\n",
    "addition=0\n",
    "for letter in letters_a:\n",
    "    if letter.upper() in alphabet:\n",
    "        addition=addition + alphabet.index(letter.upper())+1\n",
    "addition"
   ]
  },
  {
   "cell_type": "code",
   "execution_count": null,
   "id": "6ae10ac9-7910-4833-b786-53d05f19bc47",
   "metadata": {},
   "outputs": [],
   "source": [
    "addition=0\n",
    "for letter in letters_a:\n",
    "    if letter.upper() in alphabet:\n",
    "        addition=addition+alphabet_dict[letter.upper()]\n",
    "addition"
   ]
  },
  {
   "cell_type": "code",
   "execution_count": null,
   "id": "46a86489-da4f-4391-b7f8-556aca027816",
   "metadata": {},
   "outputs": [],
   "source": [
    "[*range(10,100)]"
   ]
  },
  {
   "cell_type": "code",
   "execution_count": 14,
   "id": "93dc99d7-8b0c-46d5-bab8-f87e50edbfa3",
   "metadata": {},
   "outputs": [
    {
     "ename": "AttributeError",
     "evalue": "module 'pandas' has no attribute 'fillna'",
     "output_type": "error",
     "traceback": [
      "\u001b[0;31m---------------------------------------------------------------------------\u001b[0m",
      "\u001b[0;31mAttributeError\u001b[0m                            Traceback (most recent call last)",
      "\u001b[0;32m/var/folders/ky/93l9lrgs7qgbn3j0hprgld5m0000gn/T/ipykernel_82833/1577060766.py\u001b[0m in \u001b[0;36m<module>\u001b[0;34m\u001b[0m\n\u001b[0;32m----> 1\u001b[0;31m \u001b[0mhelp\u001b[0m\u001b[0;34m(\u001b[0m\u001b[0mpd\u001b[0m\u001b[0;34m.\u001b[0m\u001b[0mfillna\u001b[0m\u001b[0;34m(\u001b[0m\u001b[0;34m)\u001b[0m\u001b[0;34m)\u001b[0m\u001b[0;34m\u001b[0m\u001b[0;34m\u001b[0m\u001b[0m\n\u001b[0m",
      "\u001b[0;32m~/opt/anaconda3/lib/python3.7/site-packages/pandas/__init__.py\u001b[0m in \u001b[0;36m__getattr__\u001b[0;34m(name)\u001b[0m\n\u001b[1;32m    242\u001b[0m         \u001b[0;32mreturn\u001b[0m \u001b[0m_SparseArray\u001b[0m\u001b[0;34m\u001b[0m\u001b[0;34m\u001b[0m\u001b[0m\n\u001b[1;32m    243\u001b[0m \u001b[0;34m\u001b[0m\u001b[0m\n\u001b[0;32m--> 244\u001b[0;31m     \u001b[0;32mraise\u001b[0m \u001b[0mAttributeError\u001b[0m\u001b[0;34m(\u001b[0m\u001b[0;34mf\"module 'pandas' has no attribute '{name}'\"\u001b[0m\u001b[0;34m)\u001b[0m\u001b[0;34m\u001b[0m\u001b[0;34m\u001b[0m\u001b[0m\n\u001b[0m\u001b[1;32m    245\u001b[0m \u001b[0;34m\u001b[0m\u001b[0m\n\u001b[1;32m    246\u001b[0m \u001b[0;34m\u001b[0m\u001b[0m\n",
      "\u001b[0;31mAttributeError\u001b[0m: module 'pandas' has no attribute 'fillna'"
     ]
    }
   ],
   "source": [
    "help(pd.fillna())"
   ]
  },
  {
   "cell_type": "code",
   "execution_count": null,
   "id": "3dded5d5-c7bf-4ffd-809a-dcb475a60f48",
   "metadata": {},
   "outputs": [],
   "source": []
  }
 ],
 "metadata": {
  "kernelspec": {
   "display_name": "Python 3 (ipykernel)",
   "language": "python",
   "name": "python3"
  },
  "language_info": {
   "codemirror_mode": {
    "name": "ipython",
    "version": 3
   },
   "file_extension": ".py",
   "mimetype": "text/x-python",
   "name": "python",
   "nbconvert_exporter": "python",
   "pygments_lexer": "ipython3",
   "version": "3.7.8"
  },
  "toc-autonumbering": true,
  "toc-showcode": true,
  "toc-showmarkdowntxt": true,
  "toc-showtags": true
 },
 "nbformat": 4,
 "nbformat_minor": 5
}
